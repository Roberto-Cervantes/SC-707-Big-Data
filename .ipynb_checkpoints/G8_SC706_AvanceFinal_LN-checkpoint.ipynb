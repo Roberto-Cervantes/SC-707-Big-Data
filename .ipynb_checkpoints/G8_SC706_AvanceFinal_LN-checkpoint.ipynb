{
 "cells": [
  {
   "cell_type": "markdown",
   "id": "e2745386-3d6b-4982-957e-ce97005c819d",
   "metadata": {},
   "source": [
    "<h1 style=\"text-align: center;\">Predictor de detección temprana para la diabetes</h1>\n"
   ]
  },
  {
   "cell_type": "markdown",
   "id": "ae251d22-8466-4bcc-ba67-41abc085f572",
   "metadata": {},
   "source": [
    "##  Introducción"
   ]
  },
  {
   "cell_type": "markdown",
   "id": "d8fac69a-d708-4fbf-925f-324440c99d07",
   "metadata": {},
   "source": [
    "*al final lo escribiremos*\n"
   ]
  },
  {
   "cell_type": "markdown",
   "id": "b2bf3804-a15e-450a-a60e-79a86bd58637",
   "metadata": {},
   "source": [
    "##  Antecedentes"
   ]
  },
  {
   "cell_type": "markdown",
   "id": "3c017853-f304-488c-8032-9fb3f9190322",
   "metadata": {},
   "source": [
    "La diabetes es una de las principales enfermedades crónicas en Costa Rica, con una prevalencia alta en adultos y un impacto significativo en el sistema de salud. Factores como el sedentarismo, la obesidad y la alimentación poco saludable han contribuido al aumento de casos. [1]\n",
    "La detección temprana es clave para reducir complicaciones, pero los métodos tradicionales pueden no ser suficientes. Por ello, la empresa \"Y\" ha solicitado este estudio para evaluar el uso del Diabetes Prediction Dataset [2] en modelos de inteligencia artificial. Este conjunto de datos contiene información biométrica y clínica relevante para la predicción de diabetes. \n",
    "Estudios han demostrado que algoritmos de aprendizaje automático como Random Forest, Regresión Logística y Redes Neuronales pueden mejorar la detección de diabetes [3]. Este trabajo analiza la viabilidad de estos enfoques en el contexto costarricense y su aplicación en la empresa \"Y\".\n",
    "        "
   ]
  },
  {
   "cell_type": "markdown",
   "id": "23e02919-4824-484b-adfd-6f3173b1be6c",
   "metadata": {},
   "source": [
    "##  Definición del problema"
   ]
  },
  {
   "cell_type": "markdown",
   "id": "4f49ea9b-e36f-42c6-b53d-abd5f0726242",
   "metadata": {},
   "source": [
    "La diabetes es una enfermedad crónica en crecimiento en Costa Rica. Su diagnóstico tardío aumenta el riesgo de complicaciones graves, lo que representa una carga significativa para el sistema de salud [1]. Actualmente, los métodos de detección tradicionales, basados en análisis de glucosa en sangre y factores clínicos, pueden ser insuficientes para identificar a tiempo a individuos en riesgo.\n",
    "La empresa \"Y\" busca desarrollar un modelo predictivo basado en inteligencia artificial para mejorar la detección temprana de la diabetes. Para ello, se evaluará la aplicabilidad del Diabetes Prediction Dataset [2], utilizando técnicas de aprendizaje automático para analizar la influencia de distintos factores biométricos y clínicos en la predicción de la enfermedad.\n",
    "El reto principal es determinar qué modelos de clasificación son más efectivos en la detección de la diabetes, optimizando su precisión y adaptabilidad al contexto costarricense. Además, se busca validar la calidad del dataset y su relevancia para la población objetivo, asegurando su aplicabilidad en el entorno clínico de la empresa \"Y\"."
   ]
  },
  {
   "cell_type": "markdown",
   "id": "f6e7049a-10dd-4eca-9b9a-051b1a71694b",
   "metadata": {},
   "source": [
    "##  Justificación"
   ]
  },
  {
   "cell_type": "markdown",
   "id": "dc4d44d0-6219-4bac-bd55-ff06aab03806",
   "metadata": {},
   "source": [
    "La creciente incidencia de la diabetes en Costa Rica, con una prevalencia alta en adultos, representa un desafío crítico para el sistema de salud y las empresas del sector. La detección tardía de la enfermedad aumenta el riesgo de complicaciones graves y eleva los costos asociados a su tratamiento [1].\n",
    "Ante esta problemática, la empresa \"Y\" ha identificado la necesidad de implementar un modelo predictivo basado en inteligencia artificial para optimizar la detección temprana de la diabetes. El uso del Diabetes Prediction Dataset [2] permitirá evaluar la efectividad de distintos algoritmos de aprendizaje automático para mejorar la precisión diagnóstica.\n",
    "Este estudio es relevante porque facilitará la toma de decisiones basadas en datos, promoviendo un enfoque preventivo en la detección de la diabetes. Además, su validación en el contexto costarricense garantizará que el modelo sea adaptable a la población local, mejorando la eficiencia de los procesos clínicos en la empresa \"Y\"."
   ]
  },
  {
   "cell_type": "markdown",
   "id": "98f6638e-14c0-4e4c-a5fc-cdf4c298fd01",
   "metadata": {},
   "source": [
    "##  Objetivo General"
   ]
  },
  {
   "cell_type": "markdown",
   "id": "aca29e4c-b2ec-4901-979a-969d13cde11f",
   "metadata": {},
   "source": [
    "Desarrollar y evaluar modelos de aprendizaje automático utilizando el Diabetes Prediction Dataset para predecir la probabilidad de desarrollar diabetes en la población costarricense, con el fin de mejorar la detección temprana de la enfermedad y optimizar la toma de decisiones en la empresa \"Y\"."
   ]
  },
  {
   "cell_type": "markdown",
   "id": "c486b880-8bcd-4616-bb17-c073fd792254",
   "metadata": {},
   "source": [
    "###  Objetivos Especificos"
   ]
  },
  {
   "cell_type": "markdown",
   "id": "cf33b0c9-d7a2-4b46-a04f-715f5c650404",
   "metadata": {},
   "source": [
    "-\tAnalizar la estructura y calidad del Diabetes Prediction Dataset, identificando las variables más relevantes para la predicción de diabetes en la población costarricense.\n",
    "-\tImplementar diferentes modelos de aprendizaje automático para predecir la presencia de diabetes, comparando su precisión y desempeño en el conjunto de datos seleccionado.\n",
    "-\tEvaluar la aplicabilidad de los modelos en el contexto clínico y empresarial de la empresa \"Y\", determinando su viabilidad para la toma de decisiones en la detección temprana de la enfermedad.\n",
    "-\tOptimizar los modelos de predicción ajustando hiperparámetros y técnicas de preprocesamiento de datos para mejorar la exactitud y fiabilidad del diagnóstico.\n",
    "-\tProponer una estrategia de integración del modelo en los procesos de la empresa \"Y\", facilitando su implementación en entornos clínicos y administrativos"
   ]
  },
  {
   "cell_type": "markdown",
   "id": "c9cc98bf-0969-4729-a454-29576be16e3e",
   "metadata": {},
   "source": [
    "##  Descripción del conjunto de datos"
   ]
  },
  {
   "cell_type": "markdown",
   "id": "ed2974ee-fa20-4367-9502-ad6b283a6974",
   "metadata": {},
   "source": [
    "El presente estudio utiliza el Diabetes Prediction Dataset, disponible en Kaggle [2]. Este conjunto de datos proporciona información biométrica, clínica y de historial médico, útil para predecir la probabilidad de que un individuo tenga diabetes.\n",
    "Estructura del Conjunto de Datos\n",
    "El dataset contiene las siguientes columnas:\n",
    "\n",
    "-\t`gender:` Género del individuo (Masculino/Femenino).\n",
    "-\t`age:` Edad del individuo (en años).\n",
    "-\t`hypertension:` Historial de hipertensión (0 = No, 1 = Sí).\n",
    "-\t`heart_disease:` Presencia de enfermedades cardíacas (0 = No, 1 = Sí).\n",
    "-\t`smoking_history:` Historial de tabaquismo (categorías como Nunca, Actualmente fuma, Exfumador, etc.).\n",
    "-\t`bmi:` Índice de masa corporal (BMI en kg/m²).\n",
    "-\t`HbA1c_level:` Nivel promedio de hemoglobina glicosilada (medido en %).\n",
    "-\t`blood_glucose_level:` Nivel de glucosa en sangre (mg/dL).\n",
    "-\t`diabetes:` Variable objetivo que indica si el individuo tiene diabetes (0 = No, 1 = Sí).\n"
   ]
  },
  {
   "cell_type": "markdown",
   "id": "06c6f346-da19-4e6a-86eb-38305a0e4596",
   "metadata": {},
   "source": [
    "##  Caracteristicas del dataset"
   ]
  },
  {
   "cell_type": "markdown",
   "id": "74c8d4e8-81d4-4542-8c48-5fcee4b44d71",
   "metadata": {},
   "source": [
    "El dataset es útil para entrenar un modelo de aprendizaje automatico para predecir la diabetes en función de las caracteristicas de los pacientes.\n",
    "\n",
    "-  Contiene características relevantes para la predicción de diabetes.\n",
    "El dataset incluye la columna diabetes, que indica si una persona tiene diabetes (1) o no (0). Esta variable es binaria, por lo que el problema es un problema de clasificación. Un modelo de Machine Learning puede aprender patrones en los datos para hacer predicciones futuras.\n",
    "\n",
    "-  Tiene suficiente cantidad de datos para entrenar modelos robustos.\n",
    "El dataset incluye factores de riesgo conocidos para la diabetes, como: Edad, Hipertensión, Enfermedades Cardiacas, Historial de tabaquismo, indice de Masa Corporal, Nivel de hemoglobina Glucosilada y Glucosa en sangre. Estos datos permiten que un modelo aprenda cómo cada característica contribuye al diagnóstico de diabetes.\n",
    "\n",
    "-  Permite aplicar múltiples algoritmos de Machine Learning.\n",
    "Debido a la naturaleza de los datos, se pueden probar diferentes algoritmos de Machine Learning: Regresión Logística (para interpretar la relación entre las variables y la diabetes). Árboles de Decisión o Random Forest (para capturar relaciones no lineales entre variables). Redes Neuronales (para modelos más complejos con patrones no obvios).\n",
    "  \n",
    "-  No requiere mucho preprocesamiento.\n",
    "No tiene valores nulos: Esto reduce la necesidad de imputación de datos.\n",
    "Las variables numéricas están en escalas razonables: No se necesita demasiada normalización.\n",
    "Las variables categóricas (gender, smoking_history) pueden convertirse fácilmente en variables numéricas para que los modelos las usen.  "
   ]
  },
  {
   "cell_type": "markdown",
   "id": "f4aa0641-6a2f-43b7-96ee-4bdf782f17ee",
   "metadata": {},
   "source": [
    "## Tamaño de Dataset"
   ]
  },
  {
   "cell_type": "markdown",
   "id": "e89ede95-54d4-41c8-bf2f-81070bf110ab",
   "metadata": {},
   "source": [
    "-  Número de filas: 100,000\n",
    "-  Número de columnas: 9\n",
    "-  Tamaño en memoria: 6.9 MB"
   ]
  },
  {
   "cell_type": "markdown",
   "id": "08e19725-8329-4dcb-8185-67faf2462bfe",
   "metadata": {},
   "source": [
    "## Limitaciones"
   ]
  },
  {
   "cell_type": "markdown",
   "id": "af7d72d6-c714-4143-babb-897db49ebf7c",
   "metadata": {},
   "source": [
    "El dataset tiene limitaciones importantes, como la falta de variables clave (dieta, historial familiar y niveles de insulina) que afectan la precisión del modelo. También puede contener sesgos en la distribución de edad, género o región, lo que reduce su capacidad de generalización. La calidad de los datos puede verse afectada por errores de recolección, mediciones imprecisas y valores ambiguos en variables categóricas. Además, solo muestra correlaciones, no causalidad, lo que limita la interpretación de los resultados. Si la variable objetivo está desbalanceada, el modelo podría predecir mayormente la clase mayoritaria (sin diabetes) y tener problemas en la detección de casos positivos. Finalmente, su rendimiento real debe validarse con nuevos datos para asegurar su fiabilidad."
   ]
  },
  {
   "cell_type": "markdown",
   "id": "3c0e6eff-ce45-4110-9ddb-5fccb1a60d46",
   "metadata": {},
   "source": [
    "## Acceso al dataset"
   ]
  },
  {
   "cell_type": "markdown",
   "id": "847a4bd2-b490-46cc-9413-f47bf3dd8910",
   "metadata": {},
   "source": [
    "*El Diabetes Prediction Dataset fue publicado en Kaggle por Mohammed Mustafa y está disponible en el siguiente enlace:*https://www.kaggle.com/datasets/iammustafatz/diabetes-prediction-dataset/data?select=diabetes_prediction_dataset.csv"
   ]
  },
  {
   "cell_type": "markdown",
   "id": "19c73d84-42e7-49cf-ab22-fed580de692f",
   "metadata": {},
   "source": [
    "## Muestra del dataset"
   ]
  },
  {
   "cell_type": "code",
   "execution_count": 101,
   "id": "b7831883-320c-4acc-b9b8-d079166ff856",
   "metadata": {},
   "outputs": [
    {
     "data": {
      "text/html": [
       "<div>\n",
       "<style scoped>\n",
       "    .dataframe tbody tr th:only-of-type {\n",
       "        vertical-align: middle;\n",
       "    }\n",
       "\n",
       "    .dataframe tbody tr th {\n",
       "        vertical-align: top;\n",
       "    }\n",
       "\n",
       "    .dataframe thead th {\n",
       "        text-align: right;\n",
       "    }\n",
       "</style>\n",
       "<table border=\"1\" class=\"dataframe\">\n",
       "  <thead>\n",
       "    <tr style=\"text-align: right;\">\n",
       "      <th></th>\n",
       "      <th>gender</th>\n",
       "      <th>age</th>\n",
       "      <th>hypertension</th>\n",
       "      <th>heart_disease</th>\n",
       "      <th>smoking_history</th>\n",
       "      <th>bmi</th>\n",
       "      <th>HbA1c_level</th>\n",
       "      <th>blood_glucose_level</th>\n",
       "      <th>diabetes</th>\n",
       "    </tr>\n",
       "  </thead>\n",
       "  <tbody>\n",
       "    <tr>\n",
       "      <th>0</th>\n",
       "      <td>Female</td>\n",
       "      <td>80.0</td>\n",
       "      <td>0</td>\n",
       "      <td>1</td>\n",
       "      <td>never</td>\n",
       "      <td>25.19</td>\n",
       "      <td>6.6</td>\n",
       "      <td>140</td>\n",
       "      <td>0</td>\n",
       "    </tr>\n",
       "    <tr>\n",
       "      <th>1</th>\n",
       "      <td>Female</td>\n",
       "      <td>54.0</td>\n",
       "      <td>0</td>\n",
       "      <td>0</td>\n",
       "      <td>No Info</td>\n",
       "      <td>27.32</td>\n",
       "      <td>6.6</td>\n",
       "      <td>80</td>\n",
       "      <td>0</td>\n",
       "    </tr>\n",
       "    <tr>\n",
       "      <th>2</th>\n",
       "      <td>Male</td>\n",
       "      <td>28.0</td>\n",
       "      <td>0</td>\n",
       "      <td>0</td>\n",
       "      <td>never</td>\n",
       "      <td>27.32</td>\n",
       "      <td>5.7</td>\n",
       "      <td>158</td>\n",
       "      <td>0</td>\n",
       "    </tr>\n",
       "    <tr>\n",
       "      <th>3</th>\n",
       "      <td>Female</td>\n",
       "      <td>36.0</td>\n",
       "      <td>0</td>\n",
       "      <td>0</td>\n",
       "      <td>current</td>\n",
       "      <td>23.45</td>\n",
       "      <td>5.0</td>\n",
       "      <td>155</td>\n",
       "      <td>0</td>\n",
       "    </tr>\n",
       "    <tr>\n",
       "      <th>4</th>\n",
       "      <td>Male</td>\n",
       "      <td>76.0</td>\n",
       "      <td>1</td>\n",
       "      <td>1</td>\n",
       "      <td>current</td>\n",
       "      <td>20.14</td>\n",
       "      <td>4.8</td>\n",
       "      <td>155</td>\n",
       "      <td>0</td>\n",
       "    </tr>\n",
       "    <tr>\n",
       "      <th>...</th>\n",
       "      <td>...</td>\n",
       "      <td>...</td>\n",
       "      <td>...</td>\n",
       "      <td>...</td>\n",
       "      <td>...</td>\n",
       "      <td>...</td>\n",
       "      <td>...</td>\n",
       "      <td>...</td>\n",
       "      <td>...</td>\n",
       "    </tr>\n",
       "    <tr>\n",
       "      <th>99995</th>\n",
       "      <td>Female</td>\n",
       "      <td>80.0</td>\n",
       "      <td>0</td>\n",
       "      <td>0</td>\n",
       "      <td>No Info</td>\n",
       "      <td>27.32</td>\n",
       "      <td>6.2</td>\n",
       "      <td>90</td>\n",
       "      <td>0</td>\n",
       "    </tr>\n",
       "    <tr>\n",
       "      <th>99996</th>\n",
       "      <td>Female</td>\n",
       "      <td>2.0</td>\n",
       "      <td>0</td>\n",
       "      <td>0</td>\n",
       "      <td>No Info</td>\n",
       "      <td>17.37</td>\n",
       "      <td>6.5</td>\n",
       "      <td>100</td>\n",
       "      <td>0</td>\n",
       "    </tr>\n",
       "    <tr>\n",
       "      <th>99997</th>\n",
       "      <td>Male</td>\n",
       "      <td>66.0</td>\n",
       "      <td>0</td>\n",
       "      <td>0</td>\n",
       "      <td>former</td>\n",
       "      <td>27.83</td>\n",
       "      <td>5.7</td>\n",
       "      <td>155</td>\n",
       "      <td>0</td>\n",
       "    </tr>\n",
       "    <tr>\n",
       "      <th>99998</th>\n",
       "      <td>Female</td>\n",
       "      <td>24.0</td>\n",
       "      <td>0</td>\n",
       "      <td>0</td>\n",
       "      <td>never</td>\n",
       "      <td>35.42</td>\n",
       "      <td>4.0</td>\n",
       "      <td>100</td>\n",
       "      <td>0</td>\n",
       "    </tr>\n",
       "    <tr>\n",
       "      <th>99999</th>\n",
       "      <td>Female</td>\n",
       "      <td>57.0</td>\n",
       "      <td>0</td>\n",
       "      <td>0</td>\n",
       "      <td>current</td>\n",
       "      <td>22.43</td>\n",
       "      <td>6.6</td>\n",
       "      <td>90</td>\n",
       "      <td>0</td>\n",
       "    </tr>\n",
       "  </tbody>\n",
       "</table>\n",
       "<p>100000 rows × 9 columns</p>\n",
       "</div>"
      ],
      "text/plain": [
       "       gender   age  hypertension  heart_disease smoking_history    bmi  \\\n",
       "0      Female  80.0             0              1           never  25.19   \n",
       "1      Female  54.0             0              0         No Info  27.32   \n",
       "2        Male  28.0             0              0           never  27.32   \n",
       "3      Female  36.0             0              0         current  23.45   \n",
       "4        Male  76.0             1              1         current  20.14   \n",
       "...       ...   ...           ...            ...             ...    ...   \n",
       "99995  Female  80.0             0              0         No Info  27.32   \n",
       "99996  Female   2.0             0              0         No Info  17.37   \n",
       "99997    Male  66.0             0              0          former  27.83   \n",
       "99998  Female  24.0             0              0           never  35.42   \n",
       "99999  Female  57.0             0              0         current  22.43   \n",
       "\n",
       "       HbA1c_level  blood_glucose_level  diabetes  \n",
       "0              6.6                  140         0  \n",
       "1              6.6                   80         0  \n",
       "2              5.7                  158         0  \n",
       "3              5.0                  155         0  \n",
       "4              4.8                  155         0  \n",
       "...            ...                  ...       ...  \n",
       "99995          6.2                   90         0  \n",
       "99996          6.5                  100         0  \n",
       "99997          5.7                  155         0  \n",
       "99998          4.0                  100         0  \n",
       "99999          6.6                   90         0  \n",
       "\n",
       "[100000 rows x 9 columns]"
      ]
     },
     "execution_count": 101,
     "metadata": {},
     "output_type": "execute_result"
    }
   ],
   "source": [
    "import pandas as pd\n",
    "diabetes = pd.read_csv('diabetes_prediction_dataset.csv')\n",
    "diabetes"
   ]
  },
  {
   "cell_type": "code",
   "execution_count": 103,
   "id": "bac90448-f0aa-4c7f-89b2-064c371f1362",
   "metadata": {},
   "outputs": [
    {
     "name": "stdout",
     "output_type": "stream",
     "text": [
      "<class 'pandas.core.frame.DataFrame'>\n",
      "RangeIndex: 100000 entries, 0 to 99999\n",
      "Data columns (total 9 columns):\n",
      " #   Column               Non-Null Count   Dtype  \n",
      "---  ------               --------------   -----  \n",
      " 0   gender               100000 non-null  object \n",
      " 1   age                  100000 non-null  float64\n",
      " 2   hypertension         100000 non-null  int64  \n",
      " 3   heart_disease        100000 non-null  int64  \n",
      " 4   smoking_history      100000 non-null  object \n",
      " 5   bmi                  100000 non-null  float64\n",
      " 6   HbA1c_level          100000 non-null  float64\n",
      " 7   blood_glucose_level  100000 non-null  int64  \n",
      " 8   diabetes             100000 non-null  int64  \n",
      "dtypes: float64(3), int64(4), object(2)\n",
      "memory usage: 6.9+ MB\n"
     ]
    }
   ],
   "source": [
    "diabetes.info()"
   ]
  },
  {
   "cell_type": "code",
   "execution_count": null,
   "id": "124179bc-cad7-4f3a-b966-e2711ef5152f",
   "metadata": {},
   "outputs": [],
   "source": []
  }
 ],
 "metadata": {
  "kernelspec": {
   "display_name": "Python [conda env:base] *",
   "language": "python",
   "name": "conda-base-py"
  },
  "language_info": {
   "codemirror_mode": {
    "name": "ipython",
    "version": 3
   },
   "file_extension": ".py",
   "mimetype": "text/x-python",
   "name": "python",
   "nbconvert_exporter": "python",
   "pygments_lexer": "ipython3",
   "version": "3.12.7"
  }
 },
 "nbformat": 4,
 "nbformat_minor": 5
}
